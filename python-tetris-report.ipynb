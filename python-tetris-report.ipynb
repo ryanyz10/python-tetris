{
 "cells": [
  {
   "cell_type": "markdown",
   "metadata": {
    "collapsed": true
   },
   "source": [
    "# Problem\n",
    "In this project we aimed to \"teach\" the computer how to play Tetris. It has been shown many times that the game of Tetris is playable by computer through an arguably simple method. We integrated this method with a genetic algorithm in the hopes that it would evolve over time and learn to play tetris better."
   ]
  },
  {
   "cell_type": "markdown",
   "metadata": {},
   "source": [
    "# Methodology\n",
    "\n",
    "### Interface between computer and Tetris\n",
    "We cloned a copy of Tetris from GitHub (link found in the References section). This version of Tetris only included the game, so we had to modify it to provide the correct information/algorithms needed for the brain to work. \n",
    "\n",
    "The heuristics we used were as follows:\n",
    "1. Aggregate height\n",
    "2. Complete lines\n",
    "3. Number of holes\n",
    "4. Bumpiness\n",
    "5. Variance\n",
    "\n",
    "The first 4 are described in a blog post linked below but I will briefly describe them here. Aggregate height pretty simple: it is the sum of the heights of each column. Clearly we will want to minimize this since having more height in tetris is always a bad thing. The second heuristic we used was complete lines. This one is the simplest and also the most obvious: the whole point of tetris is to maximize how many lines are completed. The third heuristic was number of holes. A hole is defined as an empty space with a filled space above it. Holes are bad because they make it harder to clear lines, thus we want to minimize. Bumpiness was another heuristic similar to number of holes in that it is a characteristic that makes it more difficult to clear lines. Bumpiness was calculated as the sum of the absolute differences between two adjacent columns.\n",
    "I added a 5th heuristic after watching a number of games being played by the AI. The computer would make moves that would eventually result in the board being split into two sections with different heights. This still satisfies the bumpiness heuristic since there is only one significant difference in height. Thus, I added a variance heuristic that calculates how each column varies from the average height of the columns. This should also be minimized since we want the board to be overall as flat as possible.\n",
    "\n",
    "To implement the genetic algorithm, we first had to create a way to train individuals on the game. The provided implementation only had a graphical, user-input version. Thus, we added a new method in the *TetrisApp* class, named *run_brain*, that takes an individual (basically a list of 5 weights) and simulates all possible moves in order to find the best move.\n",
    "\n",
    "The heavy-lifting is all done by the *Brain* class. The *Brain* class has methods to calculate values for each heuristic. The heart of the class (heart of the brain?? haha...) is the *enumerate* method that loops through all possible rotations and translations to generate all possible moves. All these possible moves are stored and evaluated, and the one with the best \"score\" is kept. \n",
    "\n",
    "The score is easily calculated by multiplying the weights with their corresponding heuristic. Another way to think of it is a neural network with 4 inputs, 1 output and no hidden layers.\n",
    "\n",
    "To train, we had standard DEAP genetic algorithm code with crossover and mutation functions for real numbers. Each individual was a randomly generated string of 5 weights. For each generation, we looped through each individual and ran *run_brain* with the individual as the weights. The function would return a score which we assigned as the fitness for that individual. Then, we would generate the next generation using canonical GA methods.\n",
    "\n",
    "During training, statistics on best, average, and standard deviation of scores were collected (see **Results** below). Once complete, the best individual was written to a file titled \"best_weights.txt\". The game can then be run in display mode, where it will read from the file provided."
   ]
  },
  {
   "cell_type": "markdown",
   "metadata": {},
   "source": [
    "# Results\n",
    "The final weights we used were \n",
    "\n",
    "$$\\textbf{[[-1.5212620418344, 1.2281949016679, -0.8984503365059, -0.517751664574, 0.1379031259906]]}$$\n",
    "\n",
    "All the weights about fall in line with what was expected: the weights for aggregate height, number of holes and bumpiness are negative while the weights for complete lines and variance are positive.\n",
    "\n",
    "When training, we varied the number of generations and found that training past 8 generations seemed to contribute little to increasing average score, so we ended training after 8 generations. Additionally, since a full game of Tetris is played for each individual, the generations take increasing time to run as computer gets better at playing the game.\n",
    "\n",
    "### Statistics for run 1 (n_gen = 10)\n",
    "<img src='run1.png'>\n",
    "\n",
    "Since average score seemed to still increase, we decided to increase the number of generations to 15.\n",
    "\n",
    "### Statistics for run 2 (n_gen = 15)\n",
    "<img src='run2.png'>\n",
    "\n",
    "The average score seemed to plateau past 12 generations, so we lowered n_gen to 12. Additionally, 15 generations took forever to run.\n",
    "\n",
    "### Statistics for run 3 (n_gen = 12)\n",
    "<img src='run3.png'>\n",
    "\n",
    "The maximum score attained during the run (about 45000) was much higher than any previously seen. However, the average and best scores definitely declined even after 12 generations. So, we decided to try 8 generations repeatedly, in hopes of getting high performance while not sacrificing large amounts of time.\n",
    "\n",
    "### Statistics for run 4 (n_gen = 8)\n",
    "<img src='run4.png'>\n",
    "\n",
    "These results were much more satisfactory. The best individual had a respectable score, and the average score rose steadily. The training time was also reasonable. This is the run we turned in."
   ]
  },
  {
   "cell_type": "markdown",
   "metadata": {},
   "source": [
    "# References\n",
    "**Python Tetris game** : https://gist.github.com/silvasur/565419/7e044a90eb97eb67d600b2fb776000ba36f6fcc9\n",
    "\n",
    "**Heuristics source** : https://codemyroad.wordpress.com/2013/04/14/tetris-ai-the-near-perfect-player/"
   ]
  }
 ],
 "metadata": {
  "kernelspec": {
   "display_name": "Python 3",
   "language": "python",
   "name": "python3"
  },
  "language_info": {
   "codemirror_mode": {
    "name": "ipython",
    "version": 3
   },
   "file_extension": ".py",
   "mimetype": "text/x-python",
   "name": "python",
   "nbconvert_exporter": "python",
   "pygments_lexer": "ipython3",
   "version": "3.6.5"
  }
 },
 "nbformat": 4,
 "nbformat_minor": 2
}
